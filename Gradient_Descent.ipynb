{
  "nbformat": 4,
  "nbformat_minor": 0,
  "metadata": {
    "colab": {
      "name": "Gradient_Descent.ipynb",
      "provenance": [],
      "authorship_tag": "ABX9TyNRnPwrvxFIoJ/pMDvLezeU",
      "include_colab_link": true
    },
    "kernelspec": {
      "name": "python3",
      "display_name": "Python 3"
    },
    "language_info": {
      "name": "python"
    }
  },
  "cells": [
    {
      "cell_type": "markdown",
      "metadata": {
        "id": "view-in-github",
        "colab_type": "text"
      },
      "source": [
        "<a href=\"https://colab.research.google.com/github/deepraj1/Gradient-Descent/blob/main/Gradient_Descent.ipynb\" target=\"_parent\"><img src=\"https://colab.research.google.com/assets/colab-badge.svg\" alt=\"Open In Colab\"/></a>"
      ]
    },
    {
      "cell_type": "code",
      "metadata": {
        "id": "PYlX5e64dBEa"
      },
      "source": [
        "import pandas as pd\n",
        "import numpy as np\n",
        "from sklearn.model_selection import train_test_split\n",
        "import tensorflow as tf\n",
        "from tensorflow import keras"
      ],
      "execution_count": 6,
      "outputs": []
    },
    {
      "cell_type": "code",
      "metadata": {
        "id": "9JlerN3Rl_dM"
      },
      "source": [
        "data = pd.read_csv(\"/content/Data.csv\")"
      ],
      "execution_count": 7,
      "outputs": []
    },
    {
      "cell_type": "code",
      "metadata": {
        "id": "Po-zkeTDnkrd"
      },
      "source": [
        "x_train,x_test,y_train,y_test = train_test_split(data[[\"age\",\"affordibility\"]],data.bought_insurance,test_size = 0.2,random_state= 40)\n",
        "x_train[\"age\"] = x_train[\"age\"]/100\n",
        "x_test[\"age\"] = x_test[\"age\"]/100\n",
        "x_train"
      ],
      "execution_count": null,
      "outputs": []
    },
    {
      "cell_type": "code",
      "metadata": {
        "id": "q8EANFOBxhDe"
      },
      "source": [
        "model = keras.Sequential([\n",
        "                          keras.layers.Dense(1,input_shape = (2,),activation=\"sigmoid\",kernel_initializer='ones',bias_initializer='zeros')\n",
        "])\n",
        "model.compile(optimizer='adam',loss=\"binary_crossentropy\",metrics=['accuracy'])\n",
        "model.fit(x_train,y_train,epochs=5000)"
      ],
      "execution_count": null,
      "outputs": []
    },
    {
      "cell_type": "code",
      "metadata": {
        "id": "CqMUkhqgzKsq"
      },
      "source": [
        "model.evaluate(x_test,y_test)"
      ],
      "execution_count": null,
      "outputs": []
    },
    {
      "cell_type": "code",
      "metadata": {
        "colab": {
          "base_uri": "https://localhost:8080/"
        },
        "id": "ljgCJhkZ2CWM",
        "outputId": "a9677a0d-28e9-4d38-df93-dbeca4b6bc0d"
      },
      "source": [
        "coef,i = model.get_weights()\n",
        "print(coef,i)"
      ],
      "execution_count": null,
      "outputs": [
        {
          "output_type": "stream",
          "text": [
            "[[4.884574]\n",
            " [1.660847]] [-3.2715256]\n"
          ],
          "name": "stdout"
        }
      ]
    },
    {
      "cell_type": "code",
      "metadata": {
        "id": "i8wB_6Vfqz01"
      },
      "source": [
        "def sigmoid(y):\n",
        "  z = 1/(1+np.exp(-y))\n",
        "  return z\n",
        "\n",
        "def binary_loss(y_predict,y_test):\n",
        "  epsilon = 1e-16\n",
        "  y_predict = [max(i,epsilon) for i in y_predict]\n",
        "  y_predict  = [min(i,1-epsilon)for i in y_predict]\n",
        "  y_predict = np.array(y_predict)\n",
        "  loss = -np.mean(y_test*np.log(y_predict)+(1-y_test)*np.log(1-y_predict))\n",
        "  return loss"
      ],
      "execution_count": 9,
      "outputs": []
    },
    {
      "cell_type": "code",
      "metadata": {
        "id": "2q8VP5XSpd1P"
      },
      "source": [
        "def Gradiant_descent(age,afford,y_train,epoic,thres):\n",
        "  w1=w2=1\n",
        "  b=0\n",
        "  rate = 0.5\n",
        "  n = len(age)\n",
        "  for i in range(epoic):\n",
        "    y = w1*age+w2*afford+b\n",
        "    y_predict = sigmoid(y)\n",
        "    loss = binary_loss(y_predict,y_train)\n",
        "    w1d = (1/n)*np.dot(np.transpose(age),(y_predict-y_train))\n",
        "    w2d = (1/n)*np.dot(np.transpose(afford),(y_predict-y_train))\n",
        "    bais = (1/n)*np.mean((y_predict-y_train))\n",
        "    w1 = w1 -rate*w1d\n",
        "    w2 = w2 -rate*w2d\n",
        "    b = b -rate*bais\n",
        "    print(\"epoch: \",i,\"w1: \",w1,\"w2: \",w2,\"b: \",b,\"loss: \",loss)\n",
        "    if loss<=thres:\n",
        "      break;\n",
        "    \n",
        "  return w1,w2,b"
      ],
      "execution_count": 16,
      "outputs": []
    },
    {
      "cell_type": "code",
      "metadata": {
        "id": "PUwJC_3owM2s"
      },
      "source": [
        "w1,w2,b = Gradiant_descent(x_train[\"age\"],x_train[\"affordibility\"],y_train,1000,0.4616)\n"
      ],
      "execution_count": null,
      "outputs": []
    }
  ]
}
